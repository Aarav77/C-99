{
  "nbformat": 4,
  "nbformat_minor": 0,
  "metadata": {
    "colab": {
      "name": "c118clustering.ipynb",
      "provenance": [],
      "collapsed_sections": [],
      "authorship_tag": "ABX9TyN/+L8D7/12Sms1klaAI9pI",
      "include_colab_link": true
    },
    "kernelspec": {
      "name": "python3",
      "display_name": "Python 3"
    },
    "language_info": {
      "name": "python"
    }
  },
  "cells": [
    {
      "cell_type": "markdown",
      "metadata": {
        "id": "view-in-github",
        "colab_type": "text"
      },
      "source": [
        "<a href=\"https://colab.research.google.com/github/Aarav77/C-99/blob/main/c118clustering.ipynb\" target=\"_parent\"><img src=\"https://colab.research.google.com/assets/colab-badge.svg\" alt=\"Open In Colab\"/></a>"
      ]
    },
    {
      "cell_type": "code",
      "metadata": {
        "colab": {
          "resources": {
            "http://localhost:8080/nbextensions/google.colab/files.js": {
              "data": "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",
              "ok": true,
              "headers": [
                [
                  "content-type",
                  "application/javascript"
                ]
              ],
              "status": 200,
              "status_text": ""
            }
          },
          "base_uri": "https://localhost:8080/",
          "height": 72
        },
        "id": "sSB_93SGyRxm",
        "outputId": "fbd7f61c-0f05-489c-e830-35db65bb3010"
      },
      "source": [
        "import pandas as pd\n",
        "import plotly.express as px\n",
        "from google.colab import files\n",
        "datatoload=files.upload()"
      ],
      "execution_count": 1,
      "outputs": [
        {
          "output_type": "display_data",
          "data": {
            "text/html": [
              "\n",
              "     <input type=\"file\" id=\"files-ef962e8c-bac2-49de-8aa5-9d84d5248368\" name=\"files[]\" multiple disabled\n",
              "        style=\"border:none\" />\n",
              "     <output id=\"result-ef962e8c-bac2-49de-8aa5-9d84d5248368\">\n",
              "      Upload widget is only available when the cell has been executed in the\n",
              "      current browser session. Please rerun this cell to enable.\n",
              "      </output>\n",
              "      <script src=\"/nbextensions/google.colab/files.js\"></script> "
            ],
            "text/plain": [
              "<IPython.core.display.HTML object>"
            ]
          },
          "metadata": {
            "tags": []
          }
        },
        {
          "output_type": "stream",
          "text": [
            "Saving petals_sepals.csv to petals_sepals.csv\n"
          ],
          "name": "stdout"
        }
      ]
    },
    {
      "cell_type": "code",
      "metadata": {
        "colab": {
          "base_uri": "https://localhost:8080/",
          "height": 542
        },
        "id": "MKOoBsiYy2H5",
        "outputId": "f06e974e-8b0b-47f5-8aaf-fbfe32fe7320"
      },
      "source": [
        "df=pd.read_csv(\"petals_sepals.csv\")\n",
        "fig=px.scatter(df, x=\"petal_size\", y=\"sepal_size\")\n",
        "fig.show()"
      ],
      "execution_count": 3,
      "outputs": [
        {
          "output_type": "display_data",
          "data": {
            "text/html": [
              "<html>\n",
              "<head><meta charset=\"utf-8\" /></head>\n",
              "<body>\n",
              "    <div>\n",
              "            <script src=\"https://cdnjs.cloudflare.com/ajax/libs/mathjax/2.7.5/MathJax.js?config=TeX-AMS-MML_SVG\"></script><script type=\"text/javascript\">if (window.MathJax) {MathJax.Hub.Config({SVG: {font: \"STIX-Web\"}});}</script>\n",
              "                <script type=\"text/javascript\">window.PlotlyConfig = {MathJaxConfig: 'local'};</script>\n",
              "        <script src=\"https://cdn.plot.ly/plotly-latest.min.js\"></script>    \n",
              "            <div id=\"9e490c0e-19e7-4a3d-b0ef-b96e33e152a1\" class=\"plotly-graph-div\" style=\"height:525px; width:100%;\"></div>\n",
              "            <script type=\"text/javascript\">\n",
              "                \n",
              "                    window.PLOTLYENV=window.PLOTLYENV || {};\n",
              "                    \n",
              "                if (document.getElementById(\"9e490c0e-19e7-4a3d-b0ef-b96e33e152a1\")) {\n",
              "                    Plotly.newPlot(\n",
              "                        '9e490c0e-19e7-4a3d-b0ef-b96e33e152a1',\n",
              "                        [{\"hoverlabel\": {\"namelength\": 0}, \"hovertemplate\": \"petal_size=%{x}<br>sepal_size=%{y}\", \"legendgroup\": \"\", \"marker\": {\"color\": \"#636efa\", \"symbol\": \"circle\"}, \"mode\": \"markers\", \"name\": \"\", \"showlegend\": false, \"type\": \"scatter\", \"x\": [11.323483685563536, 9.265841608434716, 14.32994391517275, 11.883901977683092, 9.95772216037143, 11.874465854197414, 11.054346640185594, 9.925010361127422, 6.723305561775902, 1.7547027950718903, 2.5376079205148603, 0.8282640892586096, 14.173080875838034, 2.8166071010343283, 8.615215401521047, 12.876543346581766, 14.08781071933008, 2.590593188232334, 3.3205727560044287, 3.3255353297050183, 10.017734290920627, 9.20235231794508, 10.474434575888745, 11.45457895627791, 11.035651713665736, 13.468979608436305, 14.407983870774489, 11.494149424979206, 11.886857832118293, 8.54247125299106, 13.86822338986442, 10.494685626312842, 10.165232906126883, 12.320392168709585, 0.9582559979119613, 9.268938910278706, 0.6136066323758149, 2.1759828009921014, 13.132054603906578, 6.8774010959462615, 6.7091013495032765, 7.859067714452973, 13.93439551411999, 3.1779707188875497, 10.716580253012005, 13.77533011733767, 13.637270550785427, 11.975187574319385, 10.688771804496064, 9.032619388471923, 1.890795204797798, 13.62193501119621, 9.033252265238918, 1.7521834914976808, 2.0014645707335745, 12.411207357630511, 9.55202010599899, 0.7820425601808255, 14.900081073258347, 7.403110385437207, 14.950355275674848, 7.211368029043683, 2.4471724277119846, 2.507736063451897, 1.3494344611689182, 14.656144049331589, 11.693156584059993, 6.8616343420455745, 6.565395334363327, 9.547429952216284, 8.778892240490741, 2.4698601122386656, 2.5143584675662853, 10.771188472206529, 2.0651552408250025, 10.883210177692675, 8.152376840343834, 10.618908198812173, 11.004847853533237, 6.697118989622943, 14.323459378313448, 6.685408088679153, 11.84422267849129, 10.01269040364811, 9.898516683335485, 10.40351461301764, 7.291462137483287, 11.190561214156094, 2.767510236681181, 11.742982748446298, 1.1496332954832775, 12.903565032575676, 14.471543130351439, 11.823916694191107, 1.3754649625283335, 14.241943057864974, 1.7487842631520882, 7.890598555328922, 12.644919751633672, 3.2474266271219836, 0.9943818297754864, 7.144658768805938, 7.914027153347032, 8.740865433307937, 1.4977409509151196, 2.7555443383565947, 7.5318282909074465, 8.741174536219862, 3.0169970063703464, 2.769025642374218, 1.6141516856836275, 10.574263719454333, 0.7005849030447123, 11.17053706315778, 2.78267671481965, 1.923399571696752, 0.614711769389105, 14.313587104753255, 2.37103951541006, 9.782007945921952, 6.65767207167022, 14.779049760842518, 0.9119727319458604, 11.81347258519279, 6.922171645939919, 13.47212239532661, 0.8321236901759553, 13.31180865813953, 11.057459798335957, 3.4325415673254684, 3.1052085629970554, 1.1827809414225836, 13.304083267362746, 2.5814198101937147, 2.9799386818414035, 0.7562003105775774, 0.9281834167434392, 8.237546757517068, 10.581477557997054, 8.962531997415777, 2.010805019490709, 2.792794937537437, 8.833602041069799, 6.782265512415843, 2.0629051884194274, 1.6188942463194262, 8.237309549924161, 13.05709237448669, 10.758938998787906, 12.088306553305054], \"xaxis\": \"x\", \"y\": [13.866161314601007, 13.443413601502217, 7.956199558517603, 7.658534107521187, 12.273534875602245, 13.237838548015896, 8.346458322120055, 9.631404839077335, 12.91052608289124, 4.922297552367944, 2.3927440864254024, 2.5705788645130685, 9.03309241750231, 2.2191162318608018, 12.961167138021588, 8.387601348446907, 6.681777438253117, 2.0420333432034563, 4.3409777878342215, 2.207371032078435, 9.495276240319582, 13.789553601325126, 13.037909825595825, 8.760015065914612, 9.70704577833004, 8.432723569795643, 8.681453041655669, 12.355698686748154, 8.131769779648028, 13.304366161536324, 9.450885427414095, 12.563987093948587, 13.23462868403739, 9.30666118722897, 4.440982692294218, 13.974153487805705, 2.762903927534853, 2.4273858915067, 9.469398235141265, 12.216809551606392, 13.606929505395383, 11.590012810104824, 7.8020966733844235, 4.778292771727212, 7.788269986937611, 6.511048565267946, 9.247999761269892, 13.55336095605023, 13.259968149333002, 11.006406956184382, 1.952017684486275, 7.3816964924919155, 11.709928051118476, 3.992769755728305, 4.350695358256969, 7.632935258261448, 7.4192668416276915, 2.472450462104023, 9.447682107998293, 13.654005530920234, 6.6796717623109565, 12.499429645710375, 2.2040520197781386, 3.80963081281501, 4.1643595247904415, 7.191636996924322, 9.136006406608507, 12.460584772160932, 13.526881221251982, 6.9673816302004825, 13.084063379341192, 3.9173339440006103, 3.4521475846506697, 12.800065222213107, 2.3608799812305543, 13.649337864359053, 11.247415288713725, 6.7392132474076, 11.77577366771955, 13.095479213661445, 8.536151561650701, 12.760366072890394, 13.477135096289013, 11.86124160247129, 13.835573814450116, 7.225236837107122, 12.58108089252449, 9.626856685721918, 2.0518379134163998, 12.398799972730062, 3.77500354275214, 8.768517139086232, 9.349501252465807, 7.965107198030282, 4.694549115086193, 6.899249703545703, 2.669486302241416, 11.848183283803424, 6.858013335305438, 4.205133092307103, 4.005909705091444, 12.325406280950448, 13.125296909958868, 11.773457128193064, 3.600713556326205, 4.053348743120223, 12.998949651662743, 13.463896445690866, 3.1676860927698534, 2.126968618960237, 3.655957720569561, 7.7843838668804, 3.498200748534893, 9.648554019145646, 4.675145982642186, 2.5873695346270305, 4.914401331274547, 8.905815847239706, 4.057100179910419, 7.450448728770787, 12.697742406078667, 8.255355173891267, 1.8214809941447132, 11.255443552098736, 13.145625345717127, 7.120899890291121, 4.225467225796917, 6.6129691963675095, 9.447927277297676, 4.039458717860774, 2.745694361700828, 4.005387173861072, 8.53524543385145, 3.641173430742165, 3.6626275950454414, 4.810232243703526, 4.566123333260986, 13.66162628799158, 8.47163650061278, 12.029344869170586, 2.8556033754915764, 3.969362030096173, 13.065360651088548, 12.669275425928097, 4.866827308114028, 2.741463587433561, 13.328889144434507, 7.805990546864733, 8.492964549081536, 8.16849089615107], \"yaxis\": \"y\"}],\n",
              "                        {\"legend\": {\"tracegroupgap\": 0}, \"margin\": {\"t\": 60}, \"template\": {\"data\": {\"bar\": [{\"error_x\": {\"color\": \"#2a3f5f\"}, \"error_y\": {\"color\": \"#2a3f5f\"}, \"marker\": {\"line\": {\"color\": \"#E5ECF6\", \"width\": 0.5}}, \"type\": \"bar\"}], \"barpolar\": [{\"marker\": {\"line\": {\"color\": \"#E5ECF6\", \"width\": 0.5}}, \"type\": \"barpolar\"}], \"carpet\": [{\"aaxis\": {\"endlinecolor\": \"#2a3f5f\", \"gridcolor\": \"white\", \"linecolor\": \"white\", \"minorgridcolor\": \"white\", \"startlinecolor\": \"#2a3f5f\"}, \"baxis\": {\"endlinecolor\": \"#2a3f5f\", \"gridcolor\": \"white\", \"linecolor\": \"white\", \"minorgridcolor\": \"white\", \"startlinecolor\": \"#2a3f5f\"}, \"type\": \"carpet\"}], \"choropleth\": [{\"colorbar\": {\"outlinewidth\": 0, \"ticks\": \"\"}, \"type\": \"choropleth\"}], \"contour\": [{\"colorbar\": {\"outlinewidth\": 0, \"ticks\": \"\"}, \"colorscale\": [[0.0, \"#0d0887\"], [0.1111111111111111, \"#46039f\"], [0.2222222222222222, \"#7201a8\"], [0.3333333333333333, \"#9c179e\"], [0.4444444444444444, \"#bd3786\"], [0.5555555555555556, \"#d8576b\"], [0.6666666666666666, \"#ed7953\"], [0.7777777777777778, \"#fb9f3a\"], [0.8888888888888888, \"#fdca26\"], [1.0, \"#f0f921\"]], \"type\": \"contour\"}], \"contourcarpet\": [{\"colorbar\": {\"outlinewidth\": 0, \"ticks\": \"\"}, \"type\": \"contourcarpet\"}], \"heatmap\": [{\"colorbar\": {\"outlinewidth\": 0, \"ticks\": \"\"}, \"colorscale\": [[0.0, \"#0d0887\"], [0.1111111111111111, \"#46039f\"], [0.2222222222222222, \"#7201a8\"], [0.3333333333333333, \"#9c179e\"], [0.4444444444444444, \"#bd3786\"], [0.5555555555555556, \"#d8576b\"], [0.6666666666666666, \"#ed7953\"], [0.7777777777777778, \"#fb9f3a\"], [0.8888888888888888, \"#fdca26\"], [1.0, \"#f0f921\"]], \"type\": \"heatmap\"}], \"heatmapgl\": [{\"colorbar\": {\"outlinewidth\": 0, \"ticks\": \"\"}, \"colorscale\": [[0.0, \"#0d0887\"], [0.1111111111111111, \"#46039f\"], [0.2222222222222222, \"#7201a8\"], [0.3333333333333333, \"#9c179e\"], [0.4444444444444444, \"#bd3786\"], [0.5555555555555556, \"#d8576b\"], [0.6666666666666666, \"#ed7953\"], [0.7777777777777778, \"#fb9f3a\"], [0.8888888888888888, \"#fdca26\"], [1.0, \"#f0f921\"]], \"type\": \"heatmapgl\"}], \"histogram\": [{\"marker\": {\"colorbar\": {\"outlinewidth\": 0, \"ticks\": \"\"}}, \"type\": \"histogram\"}], \"histogram2d\": [{\"colorbar\": {\"outlinewidth\": 0, \"ticks\": \"\"}, \"colorscale\": [[0.0, \"#0d0887\"], [0.1111111111111111, \"#46039f\"], [0.2222222222222222, \"#7201a8\"], [0.3333333333333333, \"#9c179e\"], [0.4444444444444444, \"#bd3786\"], [0.5555555555555556, \"#d8576b\"], [0.6666666666666666, \"#ed7953\"], [0.7777777777777778, \"#fb9f3a\"], [0.8888888888888888, \"#fdca26\"], [1.0, \"#f0f921\"]], \"type\": \"histogram2d\"}], \"histogram2dcontour\": [{\"colorbar\": {\"outlinewidth\": 0, \"ticks\": \"\"}, \"colorscale\": [[0.0, \"#0d0887\"], [0.1111111111111111, \"#46039f\"], [0.2222222222222222, \"#7201a8\"], [0.3333333333333333, \"#9c179e\"], [0.4444444444444444, \"#bd3786\"], [0.5555555555555556, \"#d8576b\"], [0.6666666666666666, \"#ed7953\"], [0.7777777777777778, \"#fb9f3a\"], [0.8888888888888888, \"#fdca26\"], [1.0, \"#f0f921\"]], \"type\": \"histogram2dcontour\"}], \"mesh3d\": [{\"colorbar\": {\"outlinewidth\": 0, \"ticks\": \"\"}, \"type\": \"mesh3d\"}], \"parcoords\": [{\"line\": {\"colorbar\": {\"outlinewidth\": 0, \"ticks\": \"\"}}, \"type\": \"parcoords\"}], \"pie\": [{\"automargin\": true, \"type\": \"pie\"}], \"scatter\": [{\"marker\": {\"colorbar\": {\"outlinewidth\": 0, \"ticks\": \"\"}}, \"type\": \"scatter\"}], \"scatter3d\": [{\"line\": {\"colorbar\": {\"outlinewidth\": 0, \"ticks\": \"\"}}, \"marker\": {\"colorbar\": {\"outlinewidth\": 0, \"ticks\": \"\"}}, \"type\": \"scatter3d\"}], \"scattercarpet\": [{\"marker\": {\"colorbar\": {\"outlinewidth\": 0, \"ticks\": \"\"}}, \"type\": \"scattercarpet\"}], \"scattergeo\": [{\"marker\": {\"colorbar\": {\"outlinewidth\": 0, \"ticks\": \"\"}}, \"type\": \"scattergeo\"}], \"scattergl\": [{\"marker\": {\"colorbar\": {\"outlinewidth\": 0, \"ticks\": \"\"}}, \"type\": \"scattergl\"}], \"scattermapbox\": [{\"marker\": {\"colorbar\": {\"outlinewidth\": 0, \"ticks\": \"\"}}, \"type\": \"scattermapbox\"}], \"scatterpolar\": [{\"marker\": {\"colorbar\": {\"outlinewidth\": 0, \"ticks\": \"\"}}, \"type\": \"scatterpolar\"}], \"scatterpolargl\": [{\"marker\": {\"colorbar\": {\"outlinewidth\": 0, \"ticks\": \"\"}}, \"type\": \"scatterpolargl\"}], \"scatterternary\": [{\"marker\": {\"colorbar\": {\"outlinewidth\": 0, \"ticks\": \"\"}}, \"type\": \"scatterternary\"}], \"surface\": [{\"colorbar\": {\"outlinewidth\": 0, \"ticks\": \"\"}, \"colorscale\": [[0.0, \"#0d0887\"], [0.1111111111111111, \"#46039f\"], [0.2222222222222222, \"#7201a8\"], [0.3333333333333333, \"#9c179e\"], [0.4444444444444444, \"#bd3786\"], [0.5555555555555556, \"#d8576b\"], [0.6666666666666666, \"#ed7953\"], [0.7777777777777778, \"#fb9f3a\"], [0.8888888888888888, \"#fdca26\"], [1.0, \"#f0f921\"]], \"type\": \"surface\"}], \"table\": [{\"cells\": {\"fill\": {\"color\": \"#EBF0F8\"}, \"line\": {\"color\": \"white\"}}, \"header\": {\"fill\": {\"color\": \"#C8D4E3\"}, \"line\": {\"color\": \"white\"}}, \"type\": \"table\"}]}, \"layout\": {\"annotationdefaults\": {\"arrowcolor\": \"#2a3f5f\", \"arrowhead\": 0, \"arrowwidth\": 1}, \"coloraxis\": {\"colorbar\": {\"outlinewidth\": 0, \"ticks\": \"\"}}, \"colorscale\": {\"diverging\": [[0, \"#8e0152\"], [0.1, \"#c51b7d\"], [0.2, \"#de77ae\"], [0.3, \"#f1b6da\"], [0.4, \"#fde0ef\"], [0.5, \"#f7f7f7\"], [0.6, \"#e6f5d0\"], [0.7, \"#b8e186\"], [0.8, \"#7fbc41\"], [0.9, \"#4d9221\"], [1, \"#276419\"]], \"sequential\": [[0.0, \"#0d0887\"], [0.1111111111111111, \"#46039f\"], [0.2222222222222222, \"#7201a8\"], [0.3333333333333333, \"#9c179e\"], [0.4444444444444444, \"#bd3786\"], [0.5555555555555556, \"#d8576b\"], [0.6666666666666666, \"#ed7953\"], [0.7777777777777778, \"#fb9f3a\"], [0.8888888888888888, \"#fdca26\"], [1.0, \"#f0f921\"]], \"sequentialminus\": [[0.0, \"#0d0887\"], [0.1111111111111111, \"#46039f\"], [0.2222222222222222, \"#7201a8\"], [0.3333333333333333, \"#9c179e\"], [0.4444444444444444, \"#bd3786\"], [0.5555555555555556, \"#d8576b\"], [0.6666666666666666, \"#ed7953\"], [0.7777777777777778, \"#fb9f3a\"], [0.8888888888888888, \"#fdca26\"], [1.0, \"#f0f921\"]]}, \"colorway\": [\"#636efa\", \"#EF553B\", \"#00cc96\", \"#ab63fa\", \"#FFA15A\", \"#19d3f3\", \"#FF6692\", \"#B6E880\", \"#FF97FF\", \"#FECB52\"], \"font\": {\"color\": \"#2a3f5f\"}, \"geo\": {\"bgcolor\": \"white\", \"lakecolor\": \"white\", \"landcolor\": \"#E5ECF6\", \"showlakes\": true, \"showland\": true, \"subunitcolor\": \"white\"}, \"hoverlabel\": {\"align\": \"left\"}, \"hovermode\": \"closest\", \"mapbox\": {\"style\": \"light\"}, \"paper_bgcolor\": \"white\", \"plot_bgcolor\": \"#E5ECF6\", \"polar\": {\"angularaxis\": {\"gridcolor\": \"white\", \"linecolor\": \"white\", \"ticks\": \"\"}, \"bgcolor\": \"#E5ECF6\", \"radialaxis\": {\"gridcolor\": \"white\", \"linecolor\": \"white\", \"ticks\": \"\"}}, \"scene\": {\"xaxis\": {\"backgroundcolor\": \"#E5ECF6\", \"gridcolor\": \"white\", \"gridwidth\": 2, \"linecolor\": \"white\", \"showbackground\": true, \"ticks\": \"\", \"zerolinecolor\": \"white\"}, \"yaxis\": {\"backgroundcolor\": \"#E5ECF6\", \"gridcolor\": \"white\", \"gridwidth\": 2, \"linecolor\": \"white\", \"showbackground\": true, \"ticks\": \"\", \"zerolinecolor\": \"white\"}, \"zaxis\": {\"backgroundcolor\": \"#E5ECF6\", \"gridcolor\": \"white\", \"gridwidth\": 2, \"linecolor\": \"white\", \"showbackground\": true, \"ticks\": \"\", \"zerolinecolor\": \"white\"}}, \"shapedefaults\": {\"line\": {\"color\": \"#2a3f5f\"}}, \"ternary\": {\"aaxis\": {\"gridcolor\": \"white\", \"linecolor\": \"white\", \"ticks\": \"\"}, \"baxis\": {\"gridcolor\": \"white\", \"linecolor\": \"white\", \"ticks\": \"\"}, \"bgcolor\": \"#E5ECF6\", \"caxis\": {\"gridcolor\": \"white\", \"linecolor\": \"white\", \"ticks\": \"\"}}, \"title\": {\"x\": 0.05}, \"xaxis\": {\"automargin\": true, \"gridcolor\": \"white\", \"linecolor\": \"white\", \"ticks\": \"\", \"title\": {\"standoff\": 15}, \"zerolinecolor\": \"white\", \"zerolinewidth\": 2}, \"yaxis\": {\"automargin\": true, \"gridcolor\": \"white\", \"linecolor\": \"white\", \"ticks\": \"\", \"title\": {\"standoff\": 15}, \"zerolinecolor\": \"white\", \"zerolinewidth\": 2}}}, \"xaxis\": {\"anchor\": \"y\", \"domain\": [0.0, 1.0], \"title\": {\"text\": \"petal_size\"}}, \"yaxis\": {\"anchor\": \"x\", \"domain\": [0.0, 1.0], \"title\": {\"text\": \"sepal_size\"}}},\n",
              "                        {\"responsive\": true}\n",
              "                    ).then(function(){\n",
              "                            \n",
              "var gd = document.getElementById('9e490c0e-19e7-4a3d-b0ef-b96e33e152a1');\n",
              "var x = new MutationObserver(function (mutations, observer) {{\n",
              "        var display = window.getComputedStyle(gd).display;\n",
              "        if (!display || display === 'none') {{\n",
              "            console.log([gd, 'removed!']);\n",
              "            Plotly.purge(gd);\n",
              "            observer.disconnect();\n",
              "        }}\n",
              "}});\n",
              "\n",
              "// Listen for the removal of the full notebook cells\n",
              "var notebookContainer = gd.closest('#notebook-container');\n",
              "if (notebookContainer) {{\n",
              "    x.observe(notebookContainer, {childList: true});\n",
              "}}\n",
              "\n",
              "// Listen for the clearing of the current output cell\n",
              "var outputEl = gd.closest('.output');\n",
              "if (outputEl) {{\n",
              "    x.observe(outputEl, {childList: true});\n",
              "}}\n",
              "\n",
              "                        })\n",
              "                };\n",
              "                \n",
              "            </script>\n",
              "        </div>\n",
              "</body>\n",
              "</html>"
            ]
          },
          "metadata": {
            "tags": []
          }
        }
      ]
    },
    {
      "cell_type": "code",
      "metadata": {
        "colab": {
          "base_uri": "https://localhost:8080/"
        },
        "id": "5KqGihVDz_vo",
        "outputId": "c6254a1b-bde3-4ea2-9254-ed345ed7d7d4"
      },
      "source": [
        "from sklearn.cluster import KMeans\n",
        "X=df.iloc[:, [0,1]].values\n",
        "print(X)\n",
        "wcss=[]\n",
        "for i in range(1, 11):\n",
        "  km=KMeans(n_clusters=i, init='k-means++', random_state=42)\n",
        "  km.fit(X)\n",
        "  wcss.append(km.inertia_)"
      ],
      "execution_count": 5,
      "outputs": [
        {
          "output_type": "stream",
          "text": [
            "[[11.32348369 13.86616131]\n",
            " [ 9.26584161 13.4434136 ]\n",
            " [14.32994392  7.95619956]\n",
            " [11.88390198  7.65853411]\n",
            " [ 9.95772216 12.27353488]\n",
            " [11.87446585 13.23783855]\n",
            " [11.05434664  8.34645832]\n",
            " [ 9.92501036  9.63140484]\n",
            " [ 6.72330556 12.91052608]\n",
            " [ 1.7547028   4.92229755]\n",
            " [ 2.53760792  2.39274409]\n",
            " [ 0.82826409  2.57057886]\n",
            " [14.17308088  9.03309242]\n",
            " [ 2.8166071   2.21911623]\n",
            " [ 8.6152154  12.96116714]\n",
            " [12.87654335  8.38760135]\n",
            " [14.08781072  6.68177744]\n",
            " [ 2.59059319  2.04203334]\n",
            " [ 3.32057276  4.34097779]\n",
            " [ 3.32553533  2.20737103]\n",
            " [10.01773429  9.49527624]\n",
            " [ 9.20235232 13.7895536 ]\n",
            " [10.47443458 13.03790983]\n",
            " [11.45457896  8.76001507]\n",
            " [11.03565171  9.70704578]\n",
            " [13.46897961  8.43272357]\n",
            " [14.40798387  8.68145304]\n",
            " [11.49414942 12.35569869]\n",
            " [11.88685783  8.13176978]\n",
            " [ 8.54247125 13.30436616]\n",
            " [13.86822339  9.45088543]\n",
            " [10.49468563 12.56398709]\n",
            " [10.16523291 13.23462868]\n",
            " [12.32039217  9.30666119]\n",
            " [ 0.958256    4.44098269]\n",
            " [ 9.26893891 13.97415349]\n",
            " [ 0.61360663  2.76290393]\n",
            " [ 2.1759828   2.42738589]\n",
            " [13.1320546   9.46939824]\n",
            " [ 6.8774011  12.21680955]\n",
            " [ 6.70910135 13.60692951]\n",
            " [ 7.85906771 11.59001281]\n",
            " [13.93439551  7.80209667]\n",
            " [ 3.17797072  4.77829277]\n",
            " [10.71658025  7.78826999]\n",
            " [13.77533012  6.51104857]\n",
            " [13.63727055  9.24799976]\n",
            " [11.97518757 13.55336096]\n",
            " [10.6887718  13.25996815]\n",
            " [ 9.03261939 11.00640696]\n",
            " [ 1.8907952   1.95201768]\n",
            " [13.62193501  7.38169649]\n",
            " [ 9.03325227 11.70992805]\n",
            " [ 1.75218349  3.99276976]\n",
            " [ 2.00146457  4.35069536]\n",
            " [12.41120736  7.63293526]\n",
            " [ 9.55202011  7.41926684]\n",
            " [ 0.78204256  2.47245046]\n",
            " [14.90008107  9.44768211]\n",
            " [ 7.40311039 13.65400553]\n",
            " [14.95035528  6.67967176]\n",
            " [ 7.21136803 12.49942965]\n",
            " [ 2.44717243  2.20405202]\n",
            " [ 2.50773606  3.80963081]\n",
            " [ 1.34943446  4.16435952]\n",
            " [14.65614405  7.191637  ]\n",
            " [11.69315658  9.13600641]\n",
            " [ 6.86163434 12.46058477]\n",
            " [ 6.56539533 13.52688122]\n",
            " [ 9.54742995  6.96738163]\n",
            " [ 8.77889224 13.08406338]\n",
            " [ 2.46986011  3.91733394]\n",
            " [ 2.51435847  3.45214758]\n",
            " [10.77118847 12.80006522]\n",
            " [ 2.06515524  2.36087998]\n",
            " [10.88321018 13.64933786]\n",
            " [ 8.15237684 11.24741529]\n",
            " [10.6189082   6.73921325]\n",
            " [11.00484785 11.77577367]\n",
            " [ 6.69711899 13.09547921]\n",
            " [14.32345938  8.53615156]\n",
            " [ 6.68540809 12.76036607]\n",
            " [11.84422268 13.4771351 ]\n",
            " [10.0126904  11.8612416 ]\n",
            " [ 9.89851668 13.83557381]\n",
            " [10.40351461  7.22523684]\n",
            " [ 7.29146214 12.58108089]\n",
            " [11.19056121  9.62685669]\n",
            " [ 2.76751024  2.05183791]\n",
            " [11.74298275 12.39879997]\n",
            " [ 1.1496333   3.77500354]\n",
            " [12.90356503  8.76851714]\n",
            " [14.47154313  9.34950125]\n",
            " [11.82391669  7.9651072 ]\n",
            " [ 1.37546496  4.69454912]\n",
            " [14.24194306  6.8992497 ]\n",
            " [ 1.74878426  2.6694863 ]\n",
            " [ 7.89059856 11.84818328]\n",
            " [12.64491975  6.85801334]\n",
            " [ 3.24742663  4.20513309]\n",
            " [ 0.99438183  4.00590971]\n",
            " [ 7.14465877 12.32540628]\n",
            " [ 7.91402715 13.12529691]\n",
            " [ 8.74086543 11.77345713]\n",
            " [ 1.49774095  3.60071356]\n",
            " [ 2.75554434  4.05334874]\n",
            " [ 7.53182829 12.99894965]\n",
            " [ 8.74117454 13.46389645]\n",
            " [ 3.01699701  3.16768609]\n",
            " [ 2.76902564  2.12696862]\n",
            " [ 1.61415169  3.65595772]\n",
            " [10.57426372  7.78438387]\n",
            " [ 0.7005849   3.49820075]\n",
            " [11.17053706  9.64855402]\n",
            " [ 2.78267671  4.67514598]\n",
            " [ 1.92339957  2.58736953]\n",
            " [ 0.61471177  4.91440133]\n",
            " [14.3135871   8.90581585]\n",
            " [ 2.37103952  4.05710018]\n",
            " [ 9.78200795  7.45044873]\n",
            " [ 6.65767207 12.69774241]\n",
            " [14.77904976  8.25535517]\n",
            " [ 0.91197273  1.82148099]\n",
            " [11.81347259 11.25544355]\n",
            " [ 6.92217165 13.14562535]\n",
            " [13.4721224   7.12089989]\n",
            " [ 0.83212369  4.22546723]\n",
            " [13.31180866  6.6129692 ]\n",
            " [11.0574598   9.44792728]\n",
            " [ 3.43254157  4.03945872]\n",
            " [ 3.10520856  2.74569436]\n",
            " [ 1.18278094  4.00538717]\n",
            " [13.30408327  8.53524543]\n",
            " [ 2.58141981  3.64117343]\n",
            " [ 2.97993868  3.6626276 ]\n",
            " [ 0.75620031  4.81023224]\n",
            " [ 0.92818342  4.56612333]\n",
            " [ 8.23754676 13.66162629]\n",
            " [10.58147756  8.4716365 ]\n",
            " [ 8.962532   12.02934487]\n",
            " [ 2.01080502  2.85560338]\n",
            " [ 2.79279494  3.96936203]\n",
            " [ 8.83360204 13.06536065]\n",
            " [ 6.78226551 12.66927543]\n",
            " [ 2.06290519  4.86682731]\n",
            " [ 1.61889425  2.74146359]\n",
            " [ 8.23730955 13.32888914]\n",
            " [13.05709237  7.80599055]\n",
            " [10.758939    8.49296455]\n",
            " [12.08830655  8.1684909 ]]\n"
          ],
          "name": "stdout"
        }
      ]
    },
    {
      "cell_type": "code",
      "metadata": {
        "colab": {
          "base_uri": "https://localhost:8080/",
          "height": 443
        },
        "id": "1a0nj28e1wtn",
        "outputId": "6fa6b903-5759-41d0-f0ea-7710381e12eb"
      },
      "source": [
        "import matplotlib.pyplot as plt\n",
        "import seaborn as sns\n",
        "plt.figure(figsize=(10, 5))\n",
        "sns.lineplot(range(1, 11), wcss, marker='o', color='green')\n",
        "plt.title('the elbow method')\n",
        "plt.xlabel('number of clusters')\n",
        "plt.ylabel('wcss')\n",
        "plt.show()"
      ],
      "execution_count": 6,
      "outputs": [
        {
          "output_type": "stream",
          "text": [
            "/usr/local/lib/python3.7/dist-packages/seaborn/_decorators.py:43: FutureWarning:\n",
            "\n",
            "Pass the following variables as keyword args: x, y. From version 0.12, the only valid positional argument will be `data`, and passing other arguments without an explicit keyword will result in an error or misinterpretation.\n",
            "\n"
          ],
          "name": "stderr"
        },
        {
          "output_type": "display_data",
          "data": {
            "image/png": "[encoded data removed]",
            "text/plain": [
              "<Figure size 720x360 with 1 Axes>"
            ]
          },
          "metadata": {
            "tags": [],
            "needs_background": "light"
          }
        }
      ]
    },
    {
      "cell_type": "code",
      "metadata": {
        "colab": {
          "base_uri": "https://localhost:8080/",
          "height": 769
        },
        "id": "Oo9Uc9RL3B9h",
        "outputId": "64320f05-830a-4932-e86d-2786dcd6f2da"
      },
      "source": [
        "km=KMeans(n_clusters=3, init='k-means++', random_state=42)\n",
        "ykm=km.fit_predict(X)\n",
        "plt.figure(figsize=(15, 7))\n",
        "sns.scatterplot(X[ykm==0, 0], X[ykm==0, 1], color=\"red\", label='cluster 1')\n",
        "sns.scatterplot(X[ykm==1, 0], X[ykm==1, 1], color=\"orange\", label='cluster 2')\n",
        "sns.scatterplot(X[ykm==2, 0], X[ykm==2, 1], color=\"yellow\", label='cluster 3')\n",
        "sns.scatterplot(km.cluster_centers_[:, 0], km.cluster_centers_[:, 1], color='blue', label='centroids', s=100, marker=',')\n",
        "plt.grid(False)\n",
        "plt.title('clusters of fowers')\n",
        "plt.xlabel('petal size')\n",
        "plt.ylabel('sepal size')\n",
        "plt.legend()\n",
        "plt.show()"
      ],
      "execution_count": 9,
      "outputs": [
        {
          "output_type": "stream",
          "text": [
            "/usr/local/lib/python3.7/dist-packages/seaborn/_decorators.py:43: FutureWarning:\n",
            "\n",
            "Pass the following variables as keyword args: x, y. From version 0.12, the only valid positional argument will be `data`, and passing other arguments without an explicit keyword will result in an error or misinterpretation.\n",
            "\n",
            "/usr/local/lib/python3.7/dist-packages/seaborn/_decorators.py:43: FutureWarning:\n",
            "\n",
            "Pass the following variables as keyword args: x, y. From version 0.12, the only valid positional argument will be `data`, and passing other arguments without an explicit keyword will result in an error or misinterpretation.\n",
            "\n",
            "/usr/local/lib/python3.7/dist-packages/seaborn/_decorators.py:43: FutureWarning:\n",
            "\n",
            "Pass the following variables as keyword args: x, y. From version 0.12, the only valid positional argument will be `data`, and passing other arguments without an explicit keyword will result in an error or misinterpretation.\n",
            "\n",
            "/usr/local/lib/python3.7/dist-packages/seaborn/_decorators.py:43: FutureWarning:\n",
            "\n",
            "Pass the following variables as keyword args: x, y. From version 0.12, the only valid positional argument will be `data`, and passing other arguments without an explicit keyword will result in an error or misinterpretation.\n",
            "\n"
          ],
          "name": "stderr"
        },
        {
          "output_type": "display_data",
          "data": {
            "image/png": "[encoded data removed]",
            "text/plain": [
              "<Figure size 1080x504 with 1 Axes>"
            ]
          },
          "metadata": {
            "tags": [],
            "needs_background": "light"
          }
        }
      ]
    }
  ]
}